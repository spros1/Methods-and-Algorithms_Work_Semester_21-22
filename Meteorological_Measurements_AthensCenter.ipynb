{
  "nbformat": 4,
  "nbformat_minor": 0,
  "metadata": {
    "colab": {
      "name": "Meteorological_Measurements_AthensCenter.ipynb",
      "provenance": [],
      "collapsed_sections": [],
      "authorship_tag": "ABX9TyMqInrVNeaQdTB3JQLTQnPG",
      "include_colab_link": true
    },
    "kernelspec": {
      "name": "python3",
      "display_name": "Python 3"
    },
    "language_info": {
      "name": "python"
    }
  },
  "cells": [
    {
      "cell_type": "markdown",
      "metadata": {
        "id": "view-in-github",
        "colab_type": "text"
      },
      "source": [
        "<a href=\"https://colab.research.google.com/github/spros1/Methods-and-Algorithms_Work_Semester_21-22/blob/main/Meteorological_Measurements_AthensCenter.ipynb\" target=\"_parent\"><img src=\"https://colab.research.google.com/assets/colab-badge.svg\" alt=\"Open In Colab\"/></a>"
      ]
    },
    {
      "cell_type": "markdown",
      "source": [
        "#Forecast models for meteorological measurements from Center of Athens\n",
        "\n",
        "###We are going to work with two datasets :\n",
        "|Train dataset period |Test Dataset|\n",
        "----------------------|------------|\n",
        "|   2009 - 2016       | 2017       |\n",
        "\n",
        "<br>\n",
        "\n",
        "###Both datasets fields stracture it is the same : <br>\n",
        "\n",
        "1. Month of the Year (1, 2, . . . , 12)\n",
        "2. Maximum Temperature Value\n",
        "3. Minimum Temperature Value\n",
        "4. Degree heating days\n",
        "5. Degree of cooling days\n",
        "6. Rainfall Height\n",
        "7. Average Wind Speed\n",
        "8. Max Wind Speed\n",
        "\n",
        "\n"
      ],
      "metadata": {
        "id": "tENkSPvNGYFO"
      }
    },
    {
      "cell_type": "code",
      "source": [
        ""
      ],
      "metadata": {
        "id": "QE2cXzmiJCSJ"
      },
      "execution_count": null,
      "outputs": []
    },
    {
      "cell_type": "code",
      "source": [
        ""
      ],
      "metadata": {
        "id": "_SJgpalKHirC"
      },
      "execution_count": null,
      "outputs": []
    },
    {
      "cell_type": "code",
      "source": [
        ""
      ],
      "metadata": {
        "id": "M97eyhvfHgzL"
      },
      "execution_count": null,
      "outputs": []
    },
    {
      "cell_type": "code",
      "execution_count": null,
      "metadata": {
        "id": "cp63VkEGGAId"
      },
      "outputs": [],
      "source": [
        ""
      ]
    }
  ]
}